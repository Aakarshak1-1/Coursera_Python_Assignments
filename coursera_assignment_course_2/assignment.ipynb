{
 "cells": [
  {
   "cell_type": "code",
   "execution_count": 17,
   "metadata": {},
   "outputs": [],
   "source": [
    "\n",
    "punctuation_chars = [\"'\", '\"', \",\", \".\", \"!\", \":\", \";\", '#', '@']\n",
    "# lists of words to use\n",
    "positive_words = []\n",
    "with open(\"positive_words.txt\") as pos_f:\n",
    "    for lin in pos_f:\n",
    "        if lin[0] != ';' and lin[0] != '\\n':\n",
    "            positive_words.append(lin.strip())\n",
    "\n",
    "\n",
    "negative_words = []\n",
    "with open(\"negative_words.txt\") as pos_f:\n",
    "    for lin in pos_f:\n",
    "        if lin[0] != ';' and lin[0] != '\\n':\n",
    "            negative_words.append(lin.strip())\n",
    "def strip_punctuation  (x):\n",
    "    for i in punctuation_chars:\n",
    "        x = x.replace(i, '')\n",
    "    return x\n",
    "            \n",
    "def get_pos (x):\n",
    "    x = strip_punctuation(x)\n",
    "    y = x.lower().split()\n",
    "    count = 0\n",
    "    for i in y:\n",
    "        if i in positive_words:\n",
    "            count = count + 1\n",
    "    return count\n",
    "\n",
    "def get_neg (x):\n",
    "    x = strip_punctuation(x)\n",
    "    y = x.lower().split()\n",
    "    count = 0\n",
    "    for i in y:\n",
    "        if i in negative_words:\n",
    "            count = count + 1\n",
    "    return count\n",
    "def strip_punctuation  (x):\n",
    "    for i in punctuation_chars:\n",
    "        x = x.replace(i, '')\n",
    "    return x\n",
    "outfile = open(\"resulting_data.csv\",\"w\")\n",
    "outfile.write(\"Number of Retweets, Number of Replies, Positive Score, Negative Score, Net Score\")\n",
    "outfile.write(\"\\n\")\n",
    "fileref = open(\"project_twitter_data.csv\",\"r\")\n",
    "lines = fileref.readlines()[1:]\n",
    "for line in lines:\n",
    "    positive_score = get_pos(line) #using our pre-defined function\n",
    "    negative_score = get_neg(line)\n",
    "    net_score = positive_score - negative_score\n",
    "    my_line = line.split(\",\")\n",
    "    #print(my_line)\n",
    "    retweets = int(my_line[1])\n",
    "    n_reply = int(my_line[2])\n",
    "    file_line = \"{},{},{},{},{}\".format(retweets, n_reply, positive_score, negative_score, net_score)\n",
    "    outfile.write(file_line)\n",
    "    outfile.write(\"\\n\")"
   ]
  }
 ],
 "metadata": {
  "kernelspec": {
   "display_name": "Python 3.9.12 ('base')",
   "language": "python",
   "name": "python3"
  },
  "language_info": {
   "codemirror_mode": {
    "name": "ipython",
    "version": 3
   },
   "file_extension": ".py",
   "mimetype": "text/x-python",
   "name": "python",
   "nbconvert_exporter": "python",
   "pygments_lexer": "ipython3",
   "version": "3.9.12"
  },
  "orig_nbformat": 4,
  "vscode": {
   "interpreter": {
    "hash": "88279d2366fe020547cde40dd65aa0e3aa662a6ec1f3ca12d88834876c85e1a6"
   }
  }
 },
 "nbformat": 4,
 "nbformat_minor": 2
}
