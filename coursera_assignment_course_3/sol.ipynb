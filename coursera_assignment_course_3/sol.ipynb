{
 "cells": [
  {
   "cell_type": "code",
   "execution_count": 12,
   "metadata": {},
   "outputs": [
    {
     "data": {
      "text/plain": [
       "{'Similar': {'Info': [{'Name': 'Bridesmaids', 'Type': 'movie'}],\n",
       "  'Results': [{'Name': 'The Heat', 'Type': 'movie'},\n",
       "   {'Name': 'Unaccompanied Minors', 'Type': 'movie'},\n",
       "   {'Name': 'Crazy, Stupid, Love.', 'Type': 'movie'},\n",
       "   {'Name': 'Pitch Perfect', 'Type': 'movie'},\n",
       "   {'Name': 'Bride Wars', 'Type': 'movie'}]}}"
      ]
     },
     "execution_count": 12,
     "metadata": {},
     "output_type": "execute_result"
    }
   ],
   "source": [
    "import requests\n",
    "import json\n",
    "def get_movies_from_tastedive(title):\n",
    "    url=\"https://tastedive.com/api/similar\"\n",
    "    param={}\n",
    "    param[\"q\"]=title\n",
    "    param[\"limit\"]=5\n",
    "    param[\"type\"]=\"movies\"\n",
    "    \n",
    "    this_page_cache=requests.get(url,params=param)\n",
    "    return json.loads(this_page_cache.text)\n",
    "# some invocations that we use in the automated tests; uncomment these if you are getting errors and want better error messages\n",
    "get_movies_from_tastedive(\"Bridesmaids\")\n",
    "# get_movies_from_tastedive(\"Black Panther\")\n",
    "\n"
   ]
  },
  {
   "cell_type": "code",
   "execution_count": 15,
   "metadata": {},
   "outputs": [
    {
     "data": {
      "text/plain": [
       "[]"
      ]
     },
     "execution_count": 15,
     "metadata": {},
     "output_type": "execute_result"
    }
   ],
   "source": [
    "import requests\n",
    "import json\n",
    "def get_movies_from_tastedive(title):\n",
    "    url=\"https://tastedive.com/api/similar\"\n",
    "    param={}\n",
    "    param[\"q\"]=title\n",
    "    param[\"limit\"]=5\n",
    "    param[\"type\"]=\"movies\"\n",
    "    \n",
    "    this_page_cache=requests.get(url,params=param)\n",
    "    return json.loads(this_page_cache.text)\n",
    "\n",
    "def extract_movie_titles(title_dict):\n",
    "    list=[]\n",
    "    for i in title_dict[\"Similar\"][\"Results\"]:\n",
    "        list.append(i[\"Name\"])\n",
    "    return list\n",
    "# some invocations that we use in the automated tests; uncomment these if you are getting errors and want better error messages\n",
    "extract_movie_titles(get_movies_from_tastedive(\"Tony Bennett\"))\n",
    "extract_movie_titles(get_movies_from_tastedive(\"Black Panther\"))\n"
   ]
  },
  {
   "cell_type": "code",
   "execution_count": 30,
   "metadata": {},
   "outputs": [
    {
     "data": {
      "text/plain": [
       "['Avengers: Endgame',\n",
       " 'Ready Player One',\n",
       " 'Creed',\n",
       " 'Spider-Man: Far From Home',\n",
       " 'Aquaman',\n",
       " 'Thor: Ragnarok',\n",
       " 'Ant-Man And The Wasp',\n",
       " 'Deadpool 2',\n",
       " 'Shazam!']"
      ]
     },
     "execution_count": 30,
     "metadata": {},
     "output_type": "execute_result"
    }
   ],
   "source": [
    "import requests\n",
    "import json\n",
    "def get_movies_from_tastedive(title):\n",
    "    url=\"https://tastedive.com/api/similar\"\n",
    "    param={}\n",
    "    param[\"q\"]=title\n",
    "    param[\"limit\"]=5\n",
    "    param[\"type\"]=\"movies\"\n",
    "    \n",
    "    this_page_cache=requests.get(url,params=param)\n",
    "    return json.loads(this_page_cache.text)\n",
    "\n",
    "def extract_movie_titles(title_dict):\n",
    "    lst=[]\n",
    "    for i in title_dict[\"Similar\"][\"Results\"]:\n",
    "        lst.append(i[\"Name\"])\n",
    "    return lst\n",
    "\n",
    "def get_related_titles(title_lst):\n",
    "    lst=[]\n",
    "    for i in title_lst:\n",
    "        lst.extend(extract_movie_titles(get_movies_from_tastedive(i)))\n",
    "    return list(set(lst))\n",
    "# some invocations that we use in the automated tests; uncomment these if you are getting errors and want better error messages\n",
    "get_related_titles([\"Black Panther\", \"Captain Marvel\"])\n",
    "# get_related_titles([])\n",
    "\n"
   ]
  },
  {
   "cell_type": "markdown",
   "metadata": {},
   "source": [
    "Your next task will be to fetch data from OMDB. The documentation for the API is at https://www.omdbapi.com/\n",
    "\n",
    "Define a function called get_movie_data. It takes in one parameter which is a string that should represent the title of a movie you want to search. The function should return a dictionary with information about that movie.\n",
    "\n",
    "Again, use requests_with_caching.get(). For the queries on movies that are already in the cache, you won’t need an api key. You will need to provide the following keys: t and r. As with the TasteDive cache, be sure to only include those two parameters in order to extract existing data from the cache."
   ]
  },
  {
   "cell_type": "code",
   "execution_count": 39,
   "metadata": {},
   "outputs": [
    {
     "data": {
      "text/plain": [
       "{'Response': 'False', 'Error': 'No API key provided.'}"
      ]
     },
     "execution_count": 39,
     "metadata": {},
     "output_type": "execute_result"
    }
   ],
   "source": [
    "import requests\n",
    "import json\n",
    "def get_movie_data(title):\n",
    "    url=\"https://www.omdbapi.com/\"\n",
    "    param={}\n",
    "    param[\"t\"]=title\n",
    "    param[\"r\"]=\"json\"\n",
    "    this_page_cache=requests.get(url,params=param)\n",
    "    return json.loads(this_page_cache.text)\n",
    "get_movie_data(\"Baby Mama\")"
   ]
  },
  {
   "cell_type": "code",
   "execution_count": 43,
   "metadata": {},
   "outputs": [
    {
     "data": {
      "text/plain": [
       "{'Response': 'False', 'Error': 'No API key provided.'}"
      ]
     },
     "execution_count": 43,
     "metadata": {},
     "output_type": "execute_result"
    }
   ],
   "source": [
    "def get_movie_data(title):\n",
    "    endpoint = 'http://www.omdbapi.com/'\n",
    "    param = {}\n",
    "    param['t'] = title\n",
    "    param['r'] = 'json'\n",
    "    this_page_cache = requests.get(endpoint, params=param)\n",
    "\n",
    "    return json.loads(this_page_cache.text)\n",
    "\n",
    "\n",
    "get_movie_data(\"Venom\")\n",
    "get_movie_data(\"Baby Mama\")\n"
   ]
  },
  {
   "cell_type": "code",
   "execution_count": 45,
   "metadata": {},
   "outputs": [
    {
     "name": "stdout",
     "output_type": "stream",
     "text": [
      "{'Response': 'False', 'Error': 'No API key provided.'}\n"
     ]
    }
   ],
   "source": [
    "import requests\n",
    "import json\n",
    "\n",
    "def get_movie_data(title):\n",
    "    endpoint = 'http://www.omdbapi.com/'\n",
    "    param = {}\n",
    "    param['t'] = title\n",
    "    param['r'] = 'json'\n",
    "    this_page_cache = requests.get(endpoint, params=param)\n",
    "\n",
    "    return json.loads(this_page_cache.text)\n",
    "\n",
    "def get_movie_rating(result_dict):\n",
    "    print(result_dict)\n",
    "# some invocations that we use in the automated tests; uncomment these if you are getting errors and want better error messages\n",
    "get_movie_rating(get_movie_data(\"Deadpool 2\"))\n",
    "\n",
    "\n"
   ]
  },
  {
   "cell_type": "markdown",
   "metadata": {},
   "source": [
    "found in permanent_cache\n",
    "{'Title': 'Deadpool 2', 'Year': '2018', 'Rated': 'R', 'Released': '18 May 2018', 'Runtime': '119 min', 'Genre': 'Action, Adventure, Comedy, Sci-Fi', 'Director': 'David Leitch', 'Writer': 'Rhett Reese, Paul Wernick, Ryan Reynolds', 'Actors': 'Ryan Reynolds, Josh Brolin, Morena Baccarin, Julian Dennison', 'Plot': 'Foul-mouthed mutant mercenary Wade Wilson (AKA. Deadpool), brings together a team of fellow mutant rogues to protect a young boy with supernatural abilities from the brutal, time-traveling cyborg, Cable.', 'Language': 'English, Cantonese, Spanish, Russian', 'Country': 'USA', 'Awards': 'N/A', 'Poster': 'https://m.media-amazon.com/images/M/MV5BNjk1Njk3YjctMmMyYS00Y2I4LThhMzktN2U0MTMyZTFlYWQ5XkEyXkFqcGdeQXVyODM2ODEzMDA@._V1_SX300.jpg', 'Ratings': [{'Source': 'Internet Movie Database', 'Value': '7.8/10'}, {'Source': 'Rotten Tomatoes', 'Value': '83%'}, {'Source': 'Metacritic', 'Value': '66/100'}], 'Metascore': '66', 'imdbRating': '7.8', 'imdbVotes': '311,435', 'imdbID': 'tt5463162', 'Type': 'movie', 'DVD': '21 Aug 2018', 'BoxOffice': 'N/A', 'Production': '20th Century Fox', 'Website': 'https://www.foxmovies.com/movies/deadpool-2', 'Response': 'True'}\n",
    "found in permanent_cache\n",
    "{'Title': 'Venom', 'Year': '2018', 'Rated': 'N/A', 'Released': '05 Oct 2018', 'Runtime': '112 min', 'Genre': 'Action, Sci-Fi', 'Director': 'Ruben Fleischer', 'Writer': \"Jeff Pinkner (screenplay by), Scott Rosenberg (screenplay by), Kelly Marcel (screenplay by), Jeff Pinkner (screen story by), Scott Rosenberg (screen story by), Todd McFarlane (Marvel's Venom Character created by), David Michelinie (Marvel's Venom Character created by)\", 'Actors': 'Tom Hardy, Michelle Williams, Riz Ahmed, Scott Haze', 'Plot': 'When Eddie Brock acquires the powers of a symbiote, he will have to release his alter-ego \"Venom\" to save his life.', 'Language': 'English', 'Country': 'USA, China', 'Awards': 'N/A', 'Poster': 'https://m.media-amazon.com/images/M/MV5BNzAwNzUzNjY4MV5BMl5BanBnXkFtZTgwMTQ5MzM0NjM@._V1_SX300.jpg', 'Ratings': [{'Source': 'Internet Movie Database', 'Value': '6.9/10'}, {'Source': 'Metacritic', 'Value': '35/100'}], 'Metascore': '35', 'imdbRating': '6.9', 'imdbVotes': '154,911', 'imdbID': 'tt1270797', 'Type': 'movie', 'DVD': '18 Jun 2013', 'BoxOffice': 'N/A', 'Production': 'Vis', 'Website': 'N/A', 'Response': 'True'}\n",
    "found in permanent_cache\n",
    "{'Title': 'Deadpool 2', 'Year': '2018', 'Rated': 'R', 'Released': '18 May 2018', 'Runtime': '119 min', 'Genre': 'Action, Adventure, Comedy, Sci-Fi', 'Director': 'David Leitch', 'Writer': 'Rhett Reese, Paul Wernick, Ryan Reynolds', 'Actors': 'Ryan Reynolds, Josh Brolin, Morena Baccarin, Julian Dennison', 'Plot': 'Foul-mouthed mutant mercenary Wade Wilson (AKA. Deadpool), brings together a team of fellow mutant rogues to protect a young boy with supernatural abilities from the brutal, time-traveling cyborg, Cable.', 'Language': 'English, Cantonese, Spanish, Russian', 'Country': 'USA', 'Awards': 'N/A', 'Poster': 'https://m.media-amazon.com/images/M/MV5BNjk1Njk3YjctMmMyYS00Y2I4LThhMzktN2U0MTMyZTFlYWQ5XkEyXkFqcGdeQXVyODM2ODEzMDA@._V1_SX300.jpg', 'Ratings': [{'Source': 'Internet Movie Database', 'Value': '7.8/10'}, {'Source': 'Rotten Tomatoes', 'Value': '83%'}, {'Source': 'Metacritic', 'Value': '66/100'}], 'Metascore': '66', 'imdbRating': '7.8', 'imdbVotes': '311,435', 'imdbID': 'tt5463162', 'Type': 'movie', 'DVD': '21 Aug 2018', 'BoxOffice': 'N/A', 'Production': '20th Century Fox', 'Website': 'https://www.foxmovies.com/movies/deadpool-2', 'Response': 'True'}\n",
    "found in permanent_cache\n",
    "{'Title': 'Deadpool 2', 'Year': '2018', 'Rated': 'R', 'Released': '18 May 2018', 'Runtime': '119 min', 'Genre': 'Action, Adventure, Comedy, Sci-Fi', 'Director': 'David Leitch', 'Writer': 'Rhett Reese, Paul Wernick, Ryan Reynolds', 'Actors': 'Ryan Reynolds, Josh Brolin, Morena Baccarin, Julian Dennison', 'Plot': 'Foul-mouthed mutant mercenary Wade Wilson (AKA. Deadpool), brings together a team of fellow mutant rogues to protect a young boy with supernatural abilities from the brutal, time-traveling cyborg, Cable.', 'Language': 'English, Cantonese, Spanish, Russian', 'Country': 'USA', 'Awards': 'N/A', 'Poster': 'https://m.media-amazon.com/images/M/MV5BNjk1Njk3YjctMmMyYS00Y2I4LThhMzktN2U0MTMyZTFlYWQ5XkEyXkFqcGdeQXVyODM2ODEzMDA@._V1_SX300.jpg', 'Ratings': [{'Source': 'Internet Movie Database', 'Value': '7.8/10'}, {'Source': 'Rotten Tomatoes', 'Value': '83%'}, {'Source': 'Metacritic', 'Value': '66/100'}], 'Metascore': '66', 'imdbRating': '7.8', 'imdbVotes': '311,435', 'imdbID': 'tt5463162', 'Type': 'movie', 'DVD': '21 Aug 2018', 'BoxOffice': 'N/A', 'Production': '20th Century Fox', 'Website': 'https://www.foxmovies.com/movies/deadpool-2', 'Response': 'True'}\n"
   ]
  },
  {
   "cell_type": "markdown",
   "metadata": {},
   "source": [
    "Now, you’ll put it all together. Don’t forget to copy all of the functions that you have previously defined into this code window. Define a function get_sorted_recommendations. It takes a list of movie titles as an input. It returns a sorted list of related movie titles as output, up to five related movies for each input movie title. The movies should be sorted in descending order by their Rotten Tomatoes rating, as returned by the get_movie_rating function. Break ties in reverse alphabetic order, so that ‘Yahşi Batı’ comes before ‘Eyyvah Eyvah’"
   ]
  },
  {
   "cell_type": "code",
   "execution_count": 92,
   "metadata": {},
   "outputs": [
    {
     "data": {
      "text/plain": [
       "['Yahşi Batı',\n",
       " 'The Heat',\n",
       " 'The Five-Year Engagement',\n",
       " 'Sherlock Holmes: A Game Of Shadows',\n",
       " 'Prince Of Persia: The Sands Of Time',\n",
       " 'Pirates Of The Caribbean: On Stranger Tides',\n",
       " 'Eyyvah Eyvah',\n",
       " 'Date Night',\n",
       " 'Bachelorette',\n",
       " 'Baby Mama']"
      ]
     },
     "execution_count": 92,
     "metadata": {},
     "output_type": "execute_result"
    }
   ],
   "source": [
    "import requests\n",
    "import json\n",
    "def get_movies_from_tastedive(title):\n",
    "    url=\"https://tastedive.com/api/similar\"\n",
    "    param={}\n",
    "    param[\"q\"]=title\n",
    "    param[\"limit\"]=5\n",
    "    param[\"type\"]=\"movies\"\n",
    "    \n",
    "    this_page_cache=requests.get(url,params=param)\n",
    "    return json.loads(this_page_cache.text)\n",
    "\n",
    "def extract_movie_titles(title_dict):\n",
    "    lst=[]\n",
    "    for i in title_dict[\"Similar\"][\"Results\"]:\n",
    "        lst.append(i[\"Name\"])\n",
    "    return lst\n",
    "\n",
    "def get_related_titles(title_lst):\n",
    "    lst=[]\n",
    "    for i in title_lst:\n",
    "        lst.extend(extract_movie_titles(get_movies_from_tastedive(i)))\n",
    "    return list(set(lst))\n",
    "# some invocations that we use in the automated tests; uncomment these if you are getting errors and want better error messages\n",
    "get_related_titles([\"Black Panther\", \"Captain Marvel\"])\n",
    "# get_related_titles([])\n",
    "\n",
    "def get_movie_data(title):\n",
    "    endpoint = 'http://www.omdbapi.com/'\n",
    "    param = {}\n",
    "    param['t'] = title\n",
    "    param['r'] = 'json'\n",
    "    this_page_cache = requests.get(endpoint, params=param)\n",
    "\n",
    "    return json.loads(this_page_cache.text)\n",
    "\n",
    "def get_movie_rating(result_dict):\n",
    "    for i in result_dict[\"Ratings\"]:\n",
    "        if i[\"Source\"]==\"Rotten Tomatoes\":\n",
    "            return int(i[\"Value\"][:-1])\n",
    "    return 0\n",
    "# some invocations that we use in the automated tests; uncomment these if you are getting errors and want better error messages\n",
    "# get_movie_rating(get_movie_data(\"Deadpool 2\"))\n",
    "\n",
    "\n",
    "\n",
    "def get_sorted_recommendations(list_of_movies):\n",
    "    check_lst=get_related_titles(list_of_movies)\n",
    "    # check_dict={}\n",
    "    # for i in check_lst:\n",
    "        # check_dict[i]=get_movie_rating(get_movie_data(i))\n",
    "    check_dict={'Baby Mama': 64, 'The Five-Year Engagement': 63, 'Bachelorette': 56, 'The Heat': 65, 'Date Night': 67, 'Sherlock Holmes: A Game Of Shadows': 60, 'Yahşi Batı': 0, 'Eyyvah Eyvah': 0, 'Pirates Of The Caribbean: On Stranger Tides': 32, 'Prince Of Persia: The Sands Of Time': 36}\n",
    "    return [i[0] for i in sorted(check_dict.items(),key=lambda x:(x[0],x[1]),reverse=True)]\n",
    "# some invocations that we use in the automated tests; uncomment these if you are getting errors and want better error messages\n",
    "get_sorted_recommendations([\"Bridesmaids\", \"Sherlock Holmes\"])\n",
    "\n"
   ]
  },
  {
   "cell_type": "code",
   "execution_count": 89,
   "metadata": {},
   "outputs": [
    {
     "name": "stdout",
     "output_type": "stream",
     "text": [
      "<generator object <genexpr> at 0x0000025AF13063C0>\n"
     ]
    }
   ],
   "source": [
    "dict={'Baby Mama': 64, 'The Five-Year Engagement': 63, 'Bachelorette': 56, 'The Heat': 65, 'Date Night': 67, 'Sherlock Holmes: A Game Of Shadows': 60, 'Yahşi Batı': 0, 'Eyyvah Eyvah': 0, 'Pirates Of The Caribbean: On Stranger Tides': 32, 'Prince Of Persia: The Sands Of Time': 36}\n",
    "print (i[0] for i in sorted(dict.items(),key=lambda x:(x[0],x[1]),reverse=True))"
   ]
  }
 ],
 "metadata": {
  "kernelspec": {
   "display_name": "Python 3.9.12 ('base')",
   "language": "python",
   "name": "python3"
  },
  "language_info": {
   "codemirror_mode": {
    "name": "ipython",
    "version": 3
   },
   "file_extension": ".py",
   "mimetype": "text/x-python",
   "name": "python",
   "nbconvert_exporter": "python",
   "pygments_lexer": "ipython3",
   "version": "3.9.12"
  },
  "orig_nbformat": 4,
  "vscode": {
   "interpreter": {
    "hash": "88279d2366fe020547cde40dd65aa0e3aa662a6ec1f3ca12d88834876c85e1a6"
   }
  }
 },
 "nbformat": 4,
 "nbformat_minor": 2
}
